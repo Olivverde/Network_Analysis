{
 "cells": [
  {
   "cell_type": "markdown",
   "id": "5a75807c",
   "metadata": {},
   "source": [
    "# Laboratorio 5: Análisis de Red"
   ]
  },
  {
   "cell_type": "markdown",
   "id": "46cae262",
   "metadata": {},
   "source": [
    "## Parte 1: Análisis de Paquetes"
   ]
  },
  {
   "cell_type": "markdown",
   "id": "af586fcd",
   "metadata": {},
   "source": [
    "### **Análisis Estadístico**"
   ]
  },
  {
   "cell_type": "code",
   "execution_count": 69,
   "id": "65d662f2",
   "metadata": {},
   "outputs": [],
   "source": [
    "# Imports\n",
    "from scapy.all import *\n",
    "import pandas as pd\n",
    "import matplotlib.pyplot as plt\n"
   ]
  },
  {
   "cell_type": "code",
   "execution_count": 72,
   "id": "ca8faeb0",
   "metadata": {},
   "outputs": [],
   "source": [
    "# Lectura de paquetes recurrentes y unificación de .pcap preexistente \n",
    "conf.promisc = True\n",
    "# Cargar el archivo pcap existente\n",
    "paquetes_pcap = rdpcap('analisis_paquetes.pcap')\n",
    "payload = paquetes_pcap[0].load\n",
    "# Capturar 10 paquetes en la interfaz de red \"Wi-Fi\"\n",
    "conf.promisc = True\n",
    "paquetes_capturados = sniff(count=10, iface=\"Wi-Fi\")\n",
    "\n",
    "# Combinar los paquetes capturados y los del archivo pcap en una lista\n",
    "paquetes_total = PacketList(paquetes_capturados + paquetes_pcap)\n",
    "\n",
    "# Crear el DataFrame con las columnas solicitadas\n",
    "df = pd.DataFrame({'Src Address': [p[IP].src for p in paquetes_total if IP in p],\n",
    "                   'Dst Address': [p[IP].dst for p in paquetes_total if IP in p],\n",
    "                   'Src Port': [p[TCP].sport if TCP in p else p[UDP].sport for p in paquetes_total if IP in p],\n",
    "                   'Dst Port': [p[TCP].dport if TCP in p else p[UDP].dport for p in paquetes_total if IP in p],\n",
    "                   'Payload': [int.from_bytes(p[Raw].load, byteorder='big') if Raw in p else 0 for p in paquetes_total if IP in p]})\n"
   ]
  },
  {
   "cell_type": "code",
   "execution_count": 73,
   "id": "6424b5b2",
   "metadata": {},
   "outputs": [
    {
     "data": {
      "text/plain": [
       "0"
      ]
     },
     "execution_count": 73,
     "metadata": {},
     "output_type": "execute_result"
    }
   ],
   "source": [
    "df.sample(n=5)\n",
    "df['Payload'].loc[42]"
   ]
  },
  {
   "cell_type": "markdown",
   "id": "844ffdca",
   "metadata": {},
   "source": [
    "### Estadísticas"
   ]
  },
  {
   "cell_type": "code",
   "execution_count": 14,
   "id": "7b7c81b7",
   "metadata": {},
   "outputs": [
    {
     "name": "stdout",
     "output_type": "stream",
     "text": [
      "La dirección IP de origen más frecuente es: 10.1.10.53\n"
     ]
    }
   ],
   "source": [
    "# IP Origen más frecuente\n",
    "\n",
    "ip_mas_frecuente = df['Src Address'].mode()[0]\n",
    "print(\"La dirección IP de origen más frecuente es:\", ip_mas_frecuente)"
   ]
  },
  {
   "cell_type": "code",
   "execution_count": 15,
   "id": "4c384949",
   "metadata": {},
   "outputs": [
    {
     "name": "stdout",
     "output_type": "stream",
     "text": [
      "La dirección IP de origen más frecuente es: 10.1.10.53\n"
     ]
    }
   ],
   "source": [
    "# IP Destino más frecuente\n",
    "\n",
    "ip_mas_frecuente = df['Dst Address'].mode()[0]\n",
    "print(\"La dirección IP de origen más frecuente es:\", ip_mas_frecuente)"
   ]
  },
  {
   "cell_type": "code",
   "execution_count": 16,
   "id": "cfa4cd1e",
   "metadata": {},
   "outputs": [
    {
     "name": "stdout",
     "output_type": "stream",
     "text": [
      "La dirección IP de origen más frecuente es: 10.1.10.53\n",
      "Se comunica con las siguientes direcciones IP de destino: ['84.54.22.33' '75.75.75.75']\n"
     ]
    }
   ],
   "source": [
    "# ¿A qué IPs se comunica la IP de Origen más frecuente?\n",
    "\n",
    "ip_origen_mas_frecuente = df['Src Address'].mode()[0]\n",
    "ips_destino = df.loc[df['Src Address'] == ip_origen_mas_frecuente, 'Dst Address'].unique()\n",
    "print(\"La dirección IP de origen más frecuente es:\", ip_origen_mas_frecuente)\n",
    "print(\"Se comunica con las siguientes direcciones IP de destino:\", ips_destino)"
   ]
  },
  {
   "cell_type": "code",
   "execution_count": 20,
   "id": "b17c1ebf",
   "metadata": {},
   "outputs": [
    {
     "name": "stdout",
     "output_type": "stream",
     "text": [
      "Se comunica con los siguientes puertos [53]\n"
     ]
    }
   ],
   "source": [
    "# ¿A qué puertos destino se comunica la IP de Origen más frecuente?\n",
    "\n",
    "ip_mas_frecuente = df['Src Address'].value_counts().index[0]\n",
    "df_ip_frecuente = df[df['Src Address'] == ip_mas_frecuente]\n",
    "puertos_destino_unicos = df_ip_frecuente['Dst Port'].unique()\n",
    "print('Se comunica con los siguientes puertos',puertos_destino_unicos)"
   ]
  },
  {
   "cell_type": "code",
   "execution_count": 22,
   "id": "7c7ae305",
   "metadata": {},
   "outputs": [
    {
     "name": "stdout",
     "output_type": "stream",
     "text": [
      "Se comunica con los siguientes puertos [53]\n"
     ]
    }
   ],
   "source": [
    "# ¿A qué puertos origen se comunica la IP de Destino más frecuente?\n",
    "\n",
    "ip_mas_frecuente = df['Dst Address'].value_counts().index[0]\n",
    "df_ip_frecuente = df[df['Dst Address'] == ip_mas_frecuente]\n",
    "puertos_origen_unicos = df_ip_frecuente['Src Port'].unique()\n",
    "print('Se comunica con los siguientes puertos',puertos_origen_unicos)"
   ]
  },
  {
   "cell_type": "markdown",
   "id": "1681e78d",
   "metadata": {},
   "source": [
    "### Indique el propósito de los puertos que más aparece en los incisos anteriores\n",
    "<br>\n",
    "<div style=\"text-align: justify\">\n",
    "    El puerto <b>53</b> se utiliza comúnmente para el protocolo de sistema de nombres de dominio (DNS), que permite la resolución de nombres de dominio en direcciones IP. Cuando un usuario ingresa una URL en un navegador web, el navegador envía una solicitud DNS al servidor DNS designado para obtener la dirección IP correspondiente del servidor web que aloja la página web solicitada. Esta solicitud se realiza en el puerto 53 del servidor DNS. Por lo tanto, el puerto 53 es esencial para la navegación web y para la comunicación en línea en general.\n",
    "</div>"
   ]
  }
 ],
 "metadata": {
  "kernelspec": {
   "display_name": "Python 3 (ipykernel)",
   "language": "python",
   "name": "python3"
  },
  "language_info": {
   "codemirror_mode": {
    "name": "ipython",
    "version": 3
   },
   "file_extension": ".py",
   "mimetype": "text/x-python",
   "name": "python",
   "nbconvert_exporter": "python",
   "pygments_lexer": "ipython3",
   "version": "3.10.11"
  }
 },
 "nbformat": 4,
 "nbformat_minor": 5
}
